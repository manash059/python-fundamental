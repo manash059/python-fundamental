{
  "nbformat": 4,
  "nbformat_minor": 0,
  "metadata": {
    "colab": {
      "provenance": []
    },
    "kernelspec": {
      "name": "python3",
      "display_name": "Python 3"
    },
    "language_info": {
      "name": "python"
    }
  },
  "cells": [
    {
      "cell_type": "code",
      "execution_count": 1,
      "metadata": {
        "colab": {
          "base_uri": "https://localhost:8080/"
        },
        "id": "idejmDN1VtM3",
        "outputId": "e1c71bb7-ae2e-40fe-e095-6f4715be51a1"
      },
      "outputs": [
        {
          "output_type": "execute_result",
          "data": {
            "text/plain": [
              "{101: 4, 102: 7, 'B': 2}"
            ]
          },
          "metadata": {},
          "execution_count": 1
        }
      ],
      "source": [
        "d={101: 4,102: 7,'B':2}\n",
        "d"
      ]
    },
    {
      "cell_type": "code",
      "source": [
        "d['B']"
      ],
      "metadata": {
        "colab": {
          "base_uri": "https://localhost:8080/"
        },
        "id": "8K5HV8ApW0_u",
        "outputId": "d6394813-a26b-4272-8b40-2c5817e9138a"
      },
      "execution_count": 2,
      "outputs": [
        {
          "output_type": "execute_result",
          "data": {
            "text/plain": [
              "2"
            ]
          },
          "metadata": {},
          "execution_count": 2
        }
      ]
    },
    {
      "cell_type": "code",
      "source": [
        "d[102]=60"
      ],
      "metadata": {
        "id": "afBqsUqxW5_k"
      },
      "execution_count": 3,
      "outputs": []
    },
    {
      "cell_type": "code",
      "source": [
        "d"
      ],
      "metadata": {
        "colab": {
          "base_uri": "https://localhost:8080/"
        },
        "id": "KxbNo8NdXaes",
        "outputId": "c2d794c7-4d6a-4574-8364-de42216fcdb9"
      },
      "execution_count": 4,
      "outputs": [
        {
          "output_type": "execute_result",
          "data": {
            "text/plain": [
              "{101: 4, 102: 60, 'B': 2}"
            ]
          },
          "metadata": {},
          "execution_count": 4
        }
      ]
    },
    {
      "cell_type": "code",
      "source": [
        "d.update({102:75})"
      ],
      "metadata": {
        "id": "T5EdI_uIXcI8"
      },
      "execution_count": 5,
      "outputs": []
    },
    {
      "cell_type": "code",
      "source": [
        "d"
      ],
      "metadata": {
        "colab": {
          "base_uri": "https://localhost:8080/"
        },
        "id": "fNpOqXnVXwXE",
        "outputId": "13e7a544-7864-4481-d2c2-4e8bef689970"
      },
      "execution_count": 6,
      "outputs": [
        {
          "output_type": "execute_result",
          "data": {
            "text/plain": [
              "{101: 4, 102: 75, 'B': 2}"
            ]
          },
          "metadata": {},
          "execution_count": 6
        }
      ]
    },
    {
      "cell_type": "code",
      "source": [
        "d[105]=4500\n",
        "d"
      ],
      "metadata": {
        "colab": {
          "base_uri": "https://localhost:8080/"
        },
        "id": "ULs5mtmVXxYk",
        "outputId": "2b287f76-d8cf-43fd-9333-2bc52b64741d"
      },
      "execution_count": 7,
      "outputs": [
        {
          "output_type": "execute_result",
          "data": {
            "text/plain": [
              "{101: 4, 102: 75, 'B': 2, 105: 4500}"
            ]
          },
          "metadata": {},
          "execution_count": 7
        }
      ]
    },
    {
      "cell_type": "code",
      "source": [
        "d.update({104:'manali'})"
      ],
      "metadata": {
        "id": "8Vc1lyyCYEYM"
      },
      "execution_count": 8,
      "outputs": []
    },
    {
      "cell_type": "code",
      "source": [
        "d"
      ],
      "metadata": {
        "colab": {
          "base_uri": "https://localhost:8080/"
        },
        "id": "MrqJDZIYZTP9",
        "outputId": "a081c36e-531e-4285-eeba-25fb6b2d693a"
      },
      "execution_count": 9,
      "outputs": [
        {
          "output_type": "execute_result",
          "data": {
            "text/plain": [
              "{101: 4, 102: 75, 'B': 2, 105: 4500, 104: 'manali'}"
            ]
          },
          "metadata": {},
          "execution_count": 9
        }
      ]
    },
    {
      "cell_type": "code",
      "source": [
        "d[101]='India'\n",
        "d"
      ],
      "metadata": {
        "colab": {
          "base_uri": "https://localhost:8080/"
        },
        "id": "dLS9VbjPZUBE",
        "outputId": "a27ff9c7-0b4a-4fb7-c7a1-783f60b75065"
      },
      "execution_count": 13,
      "outputs": [
        {
          "output_type": "execute_result",
          "data": {
            "text/plain": [
              "{101: 'India', 102: 75, 'B': 2, 105: 4500, 104: 'manali'}"
            ]
          },
          "metadata": {},
          "execution_count": 13
        }
      ]
    },
    {
      "cell_type": "code",
      "source": [
        "d.update({106:'India'})          #dict allow duplicat values\n",
        "d"
      ],
      "metadata": {
        "colab": {
          "base_uri": "https://localhost:8080/"
        },
        "id": "vN5TrQwMZfxs",
        "outputId": "1522fcbb-9a00-45c0-8a40-75da4267f951"
      },
      "execution_count": 22,
      "outputs": [
        {
          "output_type": "execute_result",
          "data": {
            "text/plain": [
              "{101: 'India', 102: 75, 'B': 2, 105: 4500, 104: 'manali', 106: 'India'}"
            ]
          },
          "metadata": {},
          "execution_count": 22
        }
      ]
    },
    {
      "cell_type": "code",
      "source": [
        "d[106]"
      ],
      "metadata": {
        "colab": {
          "base_uri": "https://localhost:8080/",
          "height": 36
        },
        "id": "O3NB_-LYayF1",
        "outputId": "46e66c01-0b34-43f1-e28c-af87a52390c7"
      },
      "execution_count": 23,
      "outputs": [
        {
          "output_type": "execute_result",
          "data": {
            "text/plain": [
              "'India'"
            ],
            "application/vnd.google.colaboratory.intrinsic+json": {
              "type": "string"
            }
          },
          "metadata": {},
          "execution_count": 23
        }
      ]
    },
    {
      "cell_type": "code",
      "source": [
        "del d['B']\n",
        "d"
      ],
      "metadata": {
        "colab": {
          "base_uri": "https://localhost:8080/"
        },
        "id": "fkbV3RnkbNAl",
        "outputId": "06f3ee86-ef37-41be-ae23-acf43e4a050a"
      },
      "execution_count": 24,
      "outputs": [
        {
          "output_type": "execute_result",
          "data": {
            "text/plain": [
              "{101: 'India', 102: 75, 105: 4500, 104: 'manali', 106: 'India'}"
            ]
          },
          "metadata": {},
          "execution_count": 24
        }
      ]
    },
    {
      "cell_type": "code",
      "source": [
        "d.values()"
      ],
      "metadata": {
        "colab": {
          "base_uri": "https://localhost:8080/"
        },
        "id": "eHX5MWw1bfN3",
        "outputId": "088e089f-a7ed-40e4-e559-00bc5faab9bf"
      },
      "execution_count": 25,
      "outputs": [
        {
          "output_type": "execute_result",
          "data": {
            "text/plain": [
              "dict_values(['India', 75, 4500, 'manali', 'India'])"
            ]
          },
          "metadata": {},
          "execution_count": 25
        }
      ]
    },
    {
      "cell_type": "code",
      "source": [
        "d.keys()"
      ],
      "metadata": {
        "colab": {
          "base_uri": "https://localhost:8080/"
        },
        "id": "tWCg5_W1b0zt",
        "outputId": "226ab6d1-4ced-4bc0-ae8f-9893472c707e"
      },
      "execution_count": 26,
      "outputs": [
        {
          "output_type": "execute_result",
          "data": {
            "text/plain": [
              "dict_keys([101, 102, 105, 104, 106])"
            ]
          },
          "metadata": {},
          "execution_count": 26
        }
      ]
    },
    {
      "cell_type": "code",
      "source": [
        "d.items()"
      ],
      "metadata": {
        "colab": {
          "base_uri": "https://localhost:8080/"
        },
        "id": "9FtP_APcb3Fd",
        "outputId": "52abeaab-7945-42a5-e19d-bf0e6582a533"
      },
      "execution_count": 27,
      "outputs": [
        {
          "output_type": "execute_result",
          "data": {
            "text/plain": [
              "dict_items([(101, 'India'), (102, 75), (105, 4500), (104, 'manali'), (106, 'India')])"
            ]
          },
          "metadata": {},
          "execution_count": 27
        }
      ]
    },
    {
      "cell_type": "code",
      "source": [
        "d.update({103:[200,300,400,500]})\n",
        "print(d)"
      ],
      "metadata": {
        "colab": {
          "base_uri": "https://localhost:8080/"
        },
        "id": "4OyE_puGb6zV",
        "outputId": "e2acf6ab-58be-4436-e8cb-4289747ffaaf"
      },
      "execution_count": 33,
      "outputs": [
        {
          "output_type": "stream",
          "name": "stdout",
          "text": [
            "{101: 'India', 102: 75, 105: 4500, 104: 'manali', 106: 'India', 103: [200, 300, 400, 500]}\n"
          ]
        }
      ]
    },
    {
      "cell_type": "code",
      "source": [
        "type(d)"
      ],
      "metadata": {
        "colab": {
          "base_uri": "https://localhost:8080/"
        },
        "id": "E0j-d4iScLiF",
        "outputId": "d90362c8-ebbf-4f97-c6e1-6ab97778d5c4"
      },
      "execution_count": 34,
      "outputs": [
        {
          "output_type": "execute_result",
          "data": {
            "text/plain": [
              "dict"
            ]
          },
          "metadata": {},
          "execution_count": 34
        }
      ]
    },
    {
      "cell_type": "code",
      "source": [
        "type([103])"
      ],
      "metadata": {
        "colab": {
          "base_uri": "https://localhost:8080/"
        },
        "id": "7dk1oXEFdBC1",
        "outputId": "e1a82b9a-2560-4a55-ab20-206df2f402e6"
      },
      "execution_count": 36,
      "outputs": [
        {
          "output_type": "execute_result",
          "data": {
            "text/plain": [
              "list"
            ]
          },
          "metadata": {},
          "execution_count": 36
        }
      ]
    },
    {
      "cell_type": "code",
      "source": [
        "d.update({108:(20,30,40,50,60)})\n",
        "print(d)"
      ],
      "metadata": {
        "colab": {
          "base_uri": "https://localhost:8080/"
        },
        "id": "rlX2DwczdiW9",
        "outputId": "b5f743a1-0211-44d2-8c1f-0f0bda575669"
      },
      "execution_count": 37,
      "outputs": [
        {
          "output_type": "stream",
          "name": "stdout",
          "text": [
            "{101: 'India', 102: 75, 105: 4500, 104: 'manali', 106: 'India', 103: [200, 300, 400, 500], 108: (20, 30, 40, 50, 60)}\n"
          ]
        }
      ]
    },
    {
      "cell_type": "code",
      "source": [
        "d[101]={'a':{20,30,40,},'b':(200,300,400,500),'c':['k',{'L':[11,12],'M':(77,88)},'N']}"
      ],
      "metadata": {
        "id": "k1-DSNaEfQzt"
      },
      "execution_count": 43,
      "outputs": []
    },
    {
      "cell_type": "code",
      "source": [
        "d"
      ],
      "metadata": {
        "colab": {
          "base_uri": "https://localhost:8080/"
        },
        "id": "crQdi2_PhHwG",
        "outputId": "c36a06c4-235e-4dbc-c686-d0c1ef53f09b"
      },
      "execution_count": 46,
      "outputs": [
        {
          "output_type": "execute_result",
          "data": {
            "text/plain": [
              "{101: {'a': {20, 30, 40},\n",
              "  'b': (200, 300, 400, 500),\n",
              "  'c': ['k', {'L': [11, 12], 'M': (77, 88)}, 'N']},\n",
              " 102: 75,\n",
              " 105: 4500,\n",
              " 104: 'manali',\n",
              " 106: 'India',\n",
              " 103: [200, 300, 400, 500],\n",
              " 108: (20, 30, 40, 50, 60)}"
            ]
          },
          "metadata": {},
          "execution_count": 46
        }
      ]
    },
    {
      "cell_type": "code",
      "source": [
        "d[101]"
      ],
      "metadata": {
        "colab": {
          "base_uri": "https://localhost:8080/"
        },
        "id": "MInYDd8khPAu",
        "outputId": "4c079e8b-e36c-48bc-9a59-bfe335b8d235"
      },
      "execution_count": 47,
      "outputs": [
        {
          "output_type": "execute_result",
          "data": {
            "text/plain": [
              "{'a': {20, 30, 40},\n",
              " 'b': (200, 300, 400, 500),\n",
              " 'c': ['k', {'L': [11, 12], 'M': (77, 88)}, 'N']}"
            ]
          },
          "metadata": {},
          "execution_count": 47
        }
      ]
    },
    {
      "cell_type": "code",
      "source": [
        "d[101]['c']"
      ],
      "metadata": {
        "colab": {
          "base_uri": "https://localhost:8080/"
        },
        "id": "H8zo9C8KibyG",
        "outputId": "d424dde7-11bd-4034-bff0-b698d5ccadcf"
      },
      "execution_count": 48,
      "outputs": [
        {
          "output_type": "execute_result",
          "data": {
            "text/plain": [
              "['k', {'L': [11, 12], 'M': (77, 88)}, 'N']"
            ]
          },
          "metadata": {},
          "execution_count": 48
        }
      ]
    },
    {
      "cell_type": "code",
      "source": [
        "d[101]['b']"
      ],
      "metadata": {
        "colab": {
          "base_uri": "https://localhost:8080/"
        },
        "id": "lnhKCgEiiorG",
        "outputId": "550c9c37-2641-462f-dede-30a68bbc1f5e"
      },
      "execution_count": 50,
      "outputs": [
        {
          "output_type": "execute_result",
          "data": {
            "text/plain": [
              "(200, 300, 400, 500)"
            ]
          },
          "metadata": {},
          "execution_count": 50
        }
      ]
    },
    {
      "cell_type": "code",
      "source": [
        "d[101]['b'][2]"
      ],
      "metadata": {
        "colab": {
          "base_uri": "https://localhost:8080/"
        },
        "id": "CqC61c69jKWW",
        "outputId": "730080a9-1331-4b70-91c9-a8a80e293b59"
      },
      "execution_count": 51,
      "outputs": [
        {
          "output_type": "execute_result",
          "data": {
            "text/plain": [
              "400"
            ]
          },
          "metadata": {},
          "execution_count": 51
        }
      ]
    },
    {
      "cell_type": "code",
      "source": [],
      "metadata": {
        "id": "7Gjmo3YtjRxG"
      },
      "execution_count": null,
      "outputs": []
    }
  ]
}